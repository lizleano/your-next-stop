{
 "cells": [
  {
   "cell_type": "code",
   "execution_count": 33,
   "metadata": {
    "collapsed": true
   },
   "outputs": [],
   "source": [
    "import json, requests\n",
    "import csv\n",
    "import pandas as pd\n",
    "import numpy as np\n",
    "from datetime import datetime\n",
    "\n",
    "\n",
    "import sqlalchemy\n",
    "from sqlalchemy.ext.automap import automap_base\n",
    "from sqlalchemy.orm import Session\n",
    "from sqlalchemy import create_engine, func, literal_column\n",
    "\n",
    "from flask import Flask, jsonify, render_template\n"
   ]
  },
  {
   "cell_type": "code",
   "execution_count": 10,
   "metadata": {
    "collapsed": true
   },
   "outputs": [],
   "source": [
    "# access token for api\n",
    "# ykey_access_token = \"CVTqDuGbB3YF4mUT1Kx3_yLW43u9BKAxZDiirJ0Ua6VS6UMKqzAdefhsy3H-0zHOoYiczJZ0hwZ8YNhlWqsvst5c-pQ13fscyQUDfFstAOtBC7mrUs98aZCFQHRhWnYx\"\n",
    "ykey_access_token = \"6dF_ksyC2PaHJDLhgr2_joA12Zb48JjopdvVAGD3jJ49uPuy_Cvbo-WHjusl8rYpPqYJHoHgT053pZgvr6T6EXDTxq5BDCJBFetpbAkdVneMDSTk88RqOMnZeABhWnYx\""
   ]
  },
  {
   "cell_type": "code",
   "execution_count": 37,
   "metadata": {},
   "outputs": [
    {
     "ename": "SyntaxError",
     "evalue": "EOL while scanning string literal (<ipython-input-37-6e2038f73c0a>, line 8)",
     "output_type": "error",
     "traceback": [
      "\u001b[1;36m  File \u001b[1;32m\"<ipython-input-37-6e2038f73c0a>\"\u001b[1;36m, line \u001b[1;32m8\u001b[0m\n\u001b[1;33m    DEFAULT_LOCATION = '08840\u001b[0m\n\u001b[1;37m                             ^\u001b[0m\n\u001b[1;31mSyntaxError\u001b[0m\u001b[1;31m:\u001b[0m EOL while scanning string literal\n"
     ]
    }
   ],
   "source": [
    "# API constants\n",
    "API_HOST = 'https://api.yelp.com'\n",
    "SEARCH_PATH = '/v3/businesses/search'\n",
    "BUSINESS_PATH = '/v3/businesses/'\n",
    "\n",
    "# Defaults \n",
    "DEFAULT_TERM = 'restaurant'\n",
    "DEFAULT_LOCATION = '08840\n",
    "SEARCH_LIMIT = 50\n",
    "SEARCH_MAX_LIMIT = 1000\n",
    "SORT_BY = 'best_match'\n",
    "\n",
    "# variables\n",
    "newOffset = 0\n",
    "\n",
    "# Establish Connection to MySQL\n",
    "DB_CONFIG_DICT = {\n",
    "        'user': 'root',\n",
    "        'password': 'Bernice1!',\n",
    "        'host': 'localhost',\n",
    "        'port': 3306,\n",
    "    }\n",
    "\n",
    "DB_CONN_FORMAT = \"mysql://{user}:{password}@{host}:{port}/{database}\"\n",
    "DB_NAME = \"machinelearning\"\n",
    "DB_CONN_URI_DEFAULT = (DB_CONN_FORMAT.format(\n",
    "    database=DB_NAME,\n",
    "    **DB_CONFIG_DICT))    \n",
    "    \n",
    "engine = create_engine(DB_CONN_URI_DEFAULT)\n",
    "\n",
    "\n",
    "# reflect an existing database into a new model\n",
    "Base = automap_base()\n",
    "# reflect the tables\n",
    "Base.prepare(engine, reflect=True)\n",
    "\n",
    "# Save reference to the table\n",
    "ZipCodeLists = Base.classes.zipcodelist\n",
    "Restaurants = Base.classes.restaurants\n",
    "\n",
    "# Create our session (link) from Python to the DB\n",
    "session = Session(engine)"
   ]
  },
  {
   "cell_type": "code",
   "execution_count": 12,
   "metadata": {
    "collapsed": true
   },
   "outputs": [],
   "source": [
    "def updateSQL(dataframe):    \n",
    "    dataframe.to_sql(name='restaurant', con=engine, if_exists='append', index=False)\n",
    "    \n"
   ]
  },
  {
   "cell_type": "code",
   "execution_count": 13,
   "metadata": {
    "collapsed": true
   },
   "outputs": [],
   "source": [
    "def request(host, path, api_key, url_params=None):\n",
    "#     send a GET request to the API.\n",
    "\n",
    "#     Args:\n",
    "#         host (str): The domain host of the API.\n",
    "#         path (str): The path of the API after the domain.\n",
    "#         API_KEY (str): Your API Key.\n",
    "#         url_params (dict): An optional set of query parameters in the request.\n",
    "\n",
    "#     Returns:\n",
    "#         dict: The JSON response from the request.\n",
    "\n",
    "#     Raises:\n",
    "#         HTTPError: An error occurs from the HTTP request.\n",
    "    url = '%s%s' % (host, path)\n",
    "\n",
    "    url_params = url_params or {}\n",
    "    \n",
    "    headers = {\n",
    "        'Authorization': 'Bearer %s' % api_key,\n",
    "    }\n",
    " \n",
    "    \n",
    "#     response = requests.get(url=url,  headers=headers,params=url_params)\n",
    "#     data = json.loads(resp.text)\n",
    "\n",
    "    response = requests.request('GET', url=url, headers=headers, params=url_params)    \n",
    "    \n",
    "    return response.json()"
   ]
  },
  {
   "cell_type": "code",
   "execution_count": 14,
   "metadata": {
    "collapsed": true
   },
   "outputs": [],
   "source": [
    "def yelpsearch(term, location, newOffset):\n",
    "    \"\"\"Query the Search API by a search term and location.\n",
    "\n",
    "    Args:\n",
    "        term (str): The search term passed to the API.\n",
    "        location (str): The search location passed to the API.\n",
    "\n",
    "    Returns:\n",
    "        dict: The JSON response from the request.\n",
    "    \"\"\"\n",
    "\n",
    "    # Check if zipcode has been searched recently (1 week)\n",
    "    # for test, pull everytime\n",
    "    \n",
    "    url_params = {\n",
    "        'term': term.replace(' ', '+'),\n",
    "        'location': location.replace(' ', '+'),\n",
    "        'limit': SEARCH_LIMIT,\n",
    "        'offset': newOffset,\n",
    "        'sort_by': SORT_BY\n",
    "    }\n",
    "    \n",
    "    return request(API_HOST, SEARCH_PATH, ykey_access_token, url_params=url_params)\n"
   ]
  },
  {
   "cell_type": "code",
   "execution_count": 17,
   "metadata": {},
   "outputs": [],
   "source": [
    "restaurants = []\n",
    "\n",
    "for i in range(1):\n",
    "    if i == 0:\n",
    "        newOffset = 0\n",
    "    else:\n",
    "        newOffset = i*SEARCH_LIMIT\n",
    "        print (newOffset)\n",
    "        \n",
    "    data = yelpsearch(DEFAULT_TERM, DEFAULT_LOCATION, newOffset)\n",
    "    for business in data['businesses']:\n",
    "        reservations = False\n",
    "        i, = np.where( business['transactions']=='restaurant_reservation' )\n",
    "        if i >= 0:\n",
    "            reservations = True\n",
    "            \n",
    "        delivery = True    \n",
    "        i, = np.where( business['transactions']=='delivery' )\n",
    "        if i >= 0:\n",
    "            delivery = True\n",
    "        \n",
    "        lat = business['coordinates']['latitude']\n",
    "        lng = business['coordinates']['longitude']\n",
    "        \n",
    "# Need to check if price is available\n",
    "# \n",
    "        \n",
    "        if business['price']:\n",
    "            busprice = business['price']\n",
    "        else:\n",
    "            busprice = 'NA'\n",
    "            \n",
    "    \n",
    "  \n",
    "        rest_dict = {\n",
    "            'name':business['name'].split(\",\")[0],\n",
    "            'image_url': business['image_url'],\n",
    "            'review_count': business['review_count'],\n",
    "            'price': busprice,\n",
    "            'rating': business['rating'],            \n",
    "            'latitude': lat,\n",
    "            'longitude': lng,\n",
    "            'address': ','.join(business['location']['display_address']),\n",
    "            'phone': business['display_phone'],\n",
    "            'reservations': reservations,\n",
    "            'delivery': delivery\n",
    "            \n",
    "        }\n",
    "        \n",
    "        restaurants.append(rest_dict)\n",
    "        \n",
    "    \n",
    "df = pd.DataFrame(restaurants)\n",
    "df\n",
    "\n",
    "updateSQL(df)\n",
    "# df.to_csv(\"restaurant.csv\", index=False)\n",
    "# df.to_sql(name='restaurant', con=engine, if_exists='append', index=False)\n",
    "\n"
   ]
  },
  {
   "cell_type": "code",
   "execution_count": 19,
   "metadata": {},
   "outputs": [],
   "source": [
    "df.to_sql(name='restaurants', con=engine, if_exists='append', index=False)"
   ]
  }
 ],
 "metadata": {
  "kernelspec": {
   "display_name": "Python [conda env:PythonData]",
   "language": "python",
   "name": "conda-env-PythonData-py"
  },
  "language_info": {
   "codemirror_mode": {
    "name": "ipython",
    "version": 3
   },
   "file_extension": ".py",
   "mimetype": "text/x-python",
   "name": "python",
   "nbconvert_exporter": "python",
   "pygments_lexer": "ipython3",
   "version": "3.6.1"
  }
 },
 "nbformat": 4,
 "nbformat_minor": 2
}

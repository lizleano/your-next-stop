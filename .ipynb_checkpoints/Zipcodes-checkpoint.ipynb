{
 "cells": [
  {
   "cell_type": "code",
   "execution_count": 1,
   "metadata": {
    "collapsed": true
   },
   "outputs": [],
   "source": [
    "import json, requests\n",
    "import csv\n",
    "import pandas as pd\n",
    "import numpy as np\n",
    "from datetime import datetime\n",
    "\n",
    "\n",
    "import sqlalchemy\n",
    "from sqlalchemy.ext.automap import automap_base\n",
    "from sqlalchemy.orm import Session\n",
    "from sqlalchemy import create_engine, func, literal_column\n"
   ]
  },
  {
   "cell_type": "code",
   "execution_count": 8,
   "metadata": {},
   "outputs": [],
   "source": [
    "zipcodes = pd.read_csv(\"zip_code_database.csv\")"
   ]
  },
  {
   "cell_type": "code",
   "execution_count": 10,
   "metadata": {},
   "outputs": [],
   "source": [
    "# Establish Connection to MySQL\n",
    "DB_CONFIG_DICT = {\n",
    "        'user': 'root',\n",
    "        'password': 'Bernice1!',\n",
    "        'host': 'localhost',\n",
    "        'port': 3306,\n",
    "    }\n",
    "\n",
    "DB_CONN_FORMAT = \"mysql://{user}:{password}@{host}:{port}/{database}\"\n",
    "DB_NAME = \"machinelearning\"\n",
    "DB_CONN_URI_DEFAULT = (DB_CONN_FORMAT.format(\n",
    "    database=DB_NAME,\n",
    "    **DB_CONFIG_DICT))    \n",
    "    \n",
    "engine = create_engine(DB_CONN_URI_DEFAULT)\n",
    "zipcodes.to_sql(name='zipcodes', con=engine, if_exists='append', index=False)"
   ]
  }
 ],
 "metadata": {
  "kernelspec": {
   "display_name": "Python [conda env:PythonData]",
   "language": "python",
   "name": "conda-env-PythonData-py"
  },
  "language_info": {
   "codemirror_mode": {
    "name": "ipython",
    "version": 3
   },
   "file_extension": ".py",
   "mimetype": "text/x-python",
   "name": "python",
   "nbconvert_exporter": "python",
   "pygments_lexer": "ipython3",
   "version": "3.6.1"
  }
 },
 "nbformat": 4,
 "nbformat_minor": 2
}

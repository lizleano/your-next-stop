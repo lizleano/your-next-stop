{
 "cells": [
  {
   "cell_type": "code",
   "execution_count": 7,
   "metadata": {
    "collapsed": true
   },
   "outputs": [],
   "source": [
    "import json\n",
    "import csv\n",
    "import pandas as pd\n",
    "import numpy as np\n",
    "from datetime import datetime\n"
   ]
  },
  {
   "cell_type": "code",
   "execution_count": 9,
   "metadata": {},
   "outputs": [
    {
     "data": {
      "text/html": [
       "<div>\n",
       "<style>\n",
       "    .dataframe thead tr:only-child th {\n",
       "        text-align: right;\n",
       "    }\n",
       "\n",
       "    .dataframe thead th {\n",
       "        text-align: left;\n",
       "    }\n",
       "\n",
       "    .dataframe tbody tr th {\n",
       "        vertical-align: top;\n",
       "    }\n",
       "</style>\n",
       "<table border=\"1\" class=\"dataframe\">\n",
       "  <thead>\n",
       "    <tr style=\"text-align: right;\">\n",
       "      <th></th>\n",
       "      <th>Unnamed: 0</th>\n",
       "      <th>Brand</th>\n",
       "      <th>Store Number</th>\n",
       "      <th>Store Name</th>\n",
       "      <th>Ownership Type</th>\n",
       "      <th>Street Address</th>\n",
       "      <th>City</th>\n",
       "      <th>State/Province</th>\n",
       "      <th>Country</th>\n",
       "      <th>Postcode</th>\n",
       "      <th>Longitude</th>\n",
       "      <th>Latitude</th>\n",
       "    </tr>\n",
       "  </thead>\n",
       "  <tbody>\n",
       "    <tr>\n",
       "      <th>0</th>\n",
       "      <td>11964</td>\n",
       "      <td>Starbucks</td>\n",
       "      <td>3513-125945</td>\n",
       "      <td>Safeway-Anchorage #1809</td>\n",
       "      <td>Licensed</td>\n",
       "      <td>5600 Debarr Rd Ste 9</td>\n",
       "      <td>Anchorage</td>\n",
       "      <td>AK</td>\n",
       "      <td>US</td>\n",
       "      <td>99504.0</td>\n",
       "      <td>-149.78</td>\n",
       "      <td>61.21</td>\n",
       "    </tr>\n",
       "    <tr>\n",
       "      <th>1</th>\n",
       "      <td>11965</td>\n",
       "      <td>Starbucks</td>\n",
       "      <td>74352-84449</td>\n",
       "      <td>Safeway-Anchorage #2628</td>\n",
       "      <td>Licensed</td>\n",
       "      <td>1725 Abbott Rd</td>\n",
       "      <td>Anchorage</td>\n",
       "      <td>AK</td>\n",
       "      <td>US</td>\n",
       "      <td>99507.0</td>\n",
       "      <td>-149.84</td>\n",
       "      <td>61.14</td>\n",
       "    </tr>\n",
       "    <tr>\n",
       "      <th>2</th>\n",
       "      <td>11966</td>\n",
       "      <td>Starbucks</td>\n",
       "      <td>12449-152385</td>\n",
       "      <td>Safeway - Anchorage #1813</td>\n",
       "      <td>Licensed</td>\n",
       "      <td>1501 Huffman Rd</td>\n",
       "      <td>Anchorage</td>\n",
       "      <td>AK</td>\n",
       "      <td>US</td>\n",
       "      <td>99515.0</td>\n",
       "      <td>-149.85</td>\n",
       "      <td>61.11</td>\n",
       "    </tr>\n",
       "    <tr>\n",
       "      <th>3</th>\n",
       "      <td>11967</td>\n",
       "      <td>Starbucks</td>\n",
       "      <td>24936-233524</td>\n",
       "      <td>100th &amp; C St - Anchorage</td>\n",
       "      <td>Company Owned</td>\n",
       "      <td>320 W. 100th Ave, 100, Southgate Shopping Ctr ...</td>\n",
       "      <td>Anchorage</td>\n",
       "      <td>AK</td>\n",
       "      <td>US</td>\n",
       "      <td>99515.0</td>\n",
       "      <td>-149.89</td>\n",
       "      <td>61.13</td>\n",
       "    </tr>\n",
       "    <tr>\n",
       "      <th>4</th>\n",
       "      <td>11968</td>\n",
       "      <td>Starbucks</td>\n",
       "      <td>8973-85630</td>\n",
       "      <td>Old Seward &amp; Diamond</td>\n",
       "      <td>Company Owned</td>\n",
       "      <td>1005 E Dimond Blvd</td>\n",
       "      <td>Anchorage</td>\n",
       "      <td>AK</td>\n",
       "      <td>US</td>\n",
       "      <td>99515.0</td>\n",
       "      <td>-149.86</td>\n",
       "      <td>61.14</td>\n",
       "    </tr>\n",
       "  </tbody>\n",
       "</table>\n",
       "</div>"
      ],
      "text/plain": [
       "   Unnamed: 0      Brand  Store Number                 Store Name  \\\n",
       "0       11964  Starbucks   3513-125945    Safeway-Anchorage #1809   \n",
       "1       11965  Starbucks   74352-84449    Safeway-Anchorage #2628   \n",
       "2       11966  Starbucks  12449-152385  Safeway - Anchorage #1813   \n",
       "3       11967  Starbucks  24936-233524   100th & C St - Anchorage   \n",
       "4       11968  Starbucks    8973-85630       Old Seward & Diamond   \n",
       "\n",
       "  Ownership Type                                     Street Address  \\\n",
       "0       Licensed                               5600 Debarr Rd Ste 9   \n",
       "1       Licensed                                     1725 Abbott Rd   \n",
       "2       Licensed                                    1501 Huffman Rd   \n",
       "3  Company Owned  320 W. 100th Ave, 100, Southgate Shopping Ctr ...   \n",
       "4  Company Owned                                 1005 E Dimond Blvd   \n",
       "\n",
       "        City State/Province Country  Postcode  Longitude  Latitude  \n",
       "0  Anchorage             AK      US   99504.0    -149.78     61.21  \n",
       "1  Anchorage             AK      US   99507.0    -149.84     61.14  \n",
       "2  Anchorage             AK      US   99515.0    -149.85     61.11  \n",
       "3  Anchorage             AK      US   99515.0    -149.89     61.13  \n",
       "4  Anchorage             AK      US   99515.0    -149.86     61.14  "
      ]
     },
     "execution_count": 9,
     "metadata": {},
     "output_type": "execute_result"
    }
   ],
   "source": [
    "#read the file and store it in dataframe\n",
    "starbucks=pd.read_csv(\"Resources/starbucks_usa.csv\")\n",
    "# starbucks=starbucks.dropna(axis=1, how='all')\n",
    "# starbucks[\"Temp\"]=''\n",
    "starbucks.head()"
   ]
  },
  {
   "cell_type": "code",
   "execution_count": 10,
   "metadata": {
    "collapsed": true
   },
   "outputs": [],
   "source": [
    "coordinates = []\n",
    "\n",
    "for index, row in starbucks.iterrows():\n",
    "    \n",
    "    lat = row[\"Latitude\"]\n",
    "    lng = row[\"Longitude\"]\n",
    "    \n",
    "    coordinate = (lat, lng)\n",
    "    \n",
    "    coordinates.append(coordinate)"
   ]
  },
  {
   "cell_type": "code",
   "execution_count": 12,
   "metadata": {},
   "outputs": [
    {
     "data": {
      "text/plain": [
       "13608"
      ]
     },
     "execution_count": 12,
     "metadata": {},
     "output_type": "execute_result"
    }
   ],
   "source": [
    "len(coordinates)"
   ]
  },
  {
   "cell_type": "code",
   "execution_count": 13,
   "metadata": {
    "collapsed": true
   },
   "outputs": [],
   "source": [
    "ykey_access_token = \"6dF_ksyC2PaHJDLhgr2_joA12Zb48JjopdvVAGD3jJ49uPuy_Cvbo-WHjusl8rYpPqYJHoHgT053pZgvr6T6EXDTxq5BDCJBFetpbAkdVneMDSTk88RqOMnZeABhWnYx\""
   ]
  }
 ],
 "metadata": {
  "kernelspec": {
   "display_name": "Python [conda env:PythonData2]",
   "language": "python",
   "name": "conda-env-PythonData2-py"
  },
  "language_info": {
   "codemirror_mode": {
    "name": "ipython",
    "version": 2
   },
   "file_extension": ".py",
   "mimetype": "text/x-python",
   "name": "python",
   "nbconvert_exporter": "python",
   "pygments_lexer": "ipython2",
   "version": "2.7.13"
  }
 },
 "nbformat": 4,
 "nbformat_minor": 2
}
